{
 "cells": [
  {
   "cell_type": "code",
   "execution_count": 13,
   "metadata": {},
   "outputs": [
    {
     "name": "stdout",
     "output_type": "stream",
     "text": [
      "The autoreload extension is already loaded. To reload it, use:\n",
      "  %reload_ext autoreload\n"
     ]
    }
   ],
   "source": [
    "%load_ext autoreload\n",
    "%autoreload 2"
   ]
  },
  {
   "cell_type": "code",
   "execution_count": 14,
   "metadata": {},
   "outputs": [],
   "source": [
    "import sys\n",
    "\n",
    "sys.path.append(\"../\")"
   ]
  },
  {
   "cell_type": "code",
   "execution_count": 12,
   "metadata": {},
   "outputs": [
    {
     "name": "stdout",
     "output_type": "stream",
     "text": [
      "run 1h eth_1h_ema <module 'strategy.eth_1h_ema' from 'd:\\\\my_repo\\\\chameleon-quant\\\\src\\\\demo_ipynb\\\\..\\\\strategy\\\\eth_1h_ema.py'>\n",
      "strategy_params {'exchange_name': 'binance', 'mode': 'test', 'type': 'future', 'usd': 25, 'account': 'account_1', 'symbol': 'ETH/USDT', 'count_start_date': '2024-01-01 00:00:00', 'latest_start_date': '2025-01-01 00:00:00', 'period': '1h', 'count': 10000, 'sma_a': 150, 'sma_b': 130, 'sma_c': 110, 'atr_sl': 2.5, 'atr_tp': 0, 'atr_tsl': 2.5, 'limit': True, 'ratio': 0.3, 'n_trials': 200, 'enable_bot': True}\n",
      "{'FDUSD': 0.0, 'BNB': 0.0, 'ETH': 0.0, 'BTC': 0.0, 'USDT': 10413.10913699, 'USDC': 0.0}\n",
      "USDT {'free': 10405.96351816, 'used': 7.14561883, 'total': 10413.10913699}\n",
      "closed 0.007 3428.79 0.007\n",
      "open\n",
      "open\n"
     ]
    }
   ],
   "source": [
    "import data_api\n",
    "import backtest\n",
    "import plot\n",
    "import strategy\n",
    "import trade_api\n",
    "\n",
    "import importlib\n",
    "\n",
    "importlib.reload(data_api)\n",
    "importlib.reload(backtest)\n",
    "importlib.reload(plot)\n",
    "importlib.reload(strategy)\n",
    "importlib.reload(trade_api)\n",
    "\n",
    "from trade_api.trade_api import (\n",
    "    trade_api_wapper,\n",
    "    get_ticker,\n",
    "    close_position_all,\n",
    "    cancel_order_all,\n",
    "    get_balance,\n",
    ")\n",
    "from data_api.data_api import get_data_wapper, load_config, test_connect_api\n",
    "\n",
    "\n",
    "for [_name, _s] in strategy.strategy_arr:\n",
    "    _s.strategy_params[\"mode\"] = \"test\"\n",
    "\n",
    "    period = _s.strategy_params[\"period\"]\n",
    "    print(f\"run {period} {_name} {_s}\")\n",
    "    print(f\"strategy_params {_s.strategy_params}\")\n",
    "    symbol = _s.strategy_params[\"symbol\"]\n",
    "\n",
    "    config_path = \"../strategy/config.json\"\n",
    "\n",
    "    config = load_config(config_path)\n",
    "    exchange = test_connect_api(config, _s.strategy_params)\n",
    "\n",
    "    price = get_ticker(exchange, symbol)\n",
    "\n",
    "    trade_api_wapper(\n",
    "        exchange,\n",
    "        _s.strategy_params,\n",
    "        \"buy\",\n",
    "        leverage=1,\n",
    "        price=price,\n",
    "        takeProfitPrice=price + 500,\n",
    "        stopLossParams=price - 500,\n",
    "        mode=\"open\",\n",
    "    )\n",
    "    break"
   ]
  },
  {
   "cell_type": "code",
   "execution_count": 15,
   "metadata": {},
   "outputs": [],
   "source": [
    "trade_api_wapper(exchange, _s.strategy_params, \"buy\", leverage=1, mode=\"close\")"
   ]
  },
  {
   "cell_type": "code",
   "execution_count": 37,
   "metadata": {},
   "outputs": [],
   "source": [
    "trade_api_wapper(exchange, _s.strategy_params, \"buy\", leverage=1, mode=\"cancel\")\n"
   ]
  },
  {
   "cell_type": "code",
   "execution_count": null,
   "metadata": {},
   "outputs": [],
   "source": [
    "balance_obj = get_balance(exchange)\n",
    "\n",
    "print(balance_obj[\"total\"])  # 总资产数量\n",
    "\n",
    "print(\"USDT\", balance_obj.get(\"USDT\", {}))\n",
    "print(\"BTC\", balance_obj.get(\"BTC\", {}))\n",
    "print(\"ETH\", balance_obj.get(\"ETH\", {}))\n",
    "print(\"DOGE\", balance_obj.get(\"DOGE\", {}))"
   ]
  },
  {
   "cell_type": "code",
   "execution_count": null,
   "metadata": {},
   "outputs": [],
   "source": [
    "exchange.symbols"
   ]
  }
 ],
 "metadata": {
  "kernelspec": {
   "display_name": ".venv",
   "language": "python",
   "name": "python3"
  },
  "language_info": {
   "codemirror_mode": {
    "name": "ipython",
    "version": 3
   },
   "file_extension": ".py",
   "mimetype": "text/x-python",
   "name": "python",
   "nbconvert_exporter": "python",
   "pygments_lexer": "ipython3",
   "version": "3.12.6"
  }
 },
 "nbformat": 4,
 "nbformat_minor": 2
}
