{
 "cells": [
  {
   "cell_type": "code",
   "execution_count": 94,
   "metadata": {},
   "outputs": [
    {
     "name": "stdout",
     "output_type": "stream",
     "text": [
      "The autoreload extension is already loaded. To reload it, use:\n",
      "  %reload_ext autoreload\n"
     ]
    }
   ],
   "source": [
    "%load_ext autoreload\n",
    "%autoreload 2"
   ]
  },
  {
   "cell_type": "code",
   "execution_count": 95,
   "metadata": {},
   "outputs": [],
   "source": [
    "import sys\n",
    "\n",
    "sys.path.append(\"../\")"
   ]
  },
  {
   "cell_type": "code",
   "execution_count": 96,
   "metadata": {},
   "outputs": [],
   "source": [
    "import pandas as pd\n",
    "import numpy as np\n",
    "\n",
    "# Still getting \"cannot import name 'NaN' from numpy\" error\n",
    "# https://github.com/twopirllc/pandas-ta/issues/857\n",
    "import pandas_ta as ta\n",
    "\n",
    "strategy_params = {\n",
    "    \"exchange_name\": \"binance\",\n",
    "    \"mode\": \"live\",\n",
    "    \"type\": \"future\",\n",
    "    \"usd\": 25,\n",
    "    \"account\": \"account_1\",\n",
    "    \"symbol\": \"ETH/USDT\",\n",
    "    \"count_start_date\": \"2024-01-01 00:00:00\",\n",
    "    \"latest_start_date\": \"2025-01-01 00:00:00\",\n",
    "    \"period\": \"1h\",\n",
    "    \"count\": 1000 * 10,\n",
    "    \"sma_a\": 150,\n",
    "    \"sma_b\": 130,\n",
    "    \"sma_c\": 110,\n",
    "    \"atr_sl\": 2.5,\n",
    "    \"atr_tp\": 0,\n",
    "    \"atr_tsl\": 2.5,\n",
    "    \"limit\": True,\n",
    "    \"ratio\": 0.3,\n",
    "    \"n_trials\": 200,\n",
    "    \"enable_bot\": True,\n",
    "}\n",
    "\n",
    "optuna_params = {\n",
    "    \"sma_a\": {\"min\": 10, \"max\": 400, \"step\": 20, \"type\": \"int\"},\n",
    "    \"sma_b\": {\"min\": 10, \"max\": 400, \"step\": 20, \"type\": \"int\"},\n",
    "    \"sma_c\": {\"min\": 10, \"max\": 400, \"step\": 20, \"type\": \"int\"},\n",
    "    \"atr_sl\": {\"min\": 1.0, \"max\": 4.0, \"step\": 0.5, \"type\": \"float\"},\n",
    "    \"atr_tsl\": {\"min\": 1.0, \"max\": 4.0, \"step\": 0.5, \"type\": \"float\"},\n",
    "}\n",
    "\n",
    "\n",
    "def strategy(df, strategy_params):\n",
    "    df[\"sma_a\"] = ta.ema(df[\"close\"], length=strategy_params[\"sma_a\"])\n",
    "    df[\"sma_b\"] = ta.ema(df[\"close\"], length=strategy_params[\"sma_b\"])\n",
    "    df[\"sma_c\"] = ta.ema(df[\"close\"], length=strategy_params[\"sma_c\"])\n",
    "    df[\"atr\"] = ta.atr(df[\"high\"], df[\"low\"], df[\"close\"], length=14)\n",
    "    df[\"is_nan\"] = np.isnan(df[\"sma_a\"]) | np.isnan(df[\"sma_b\"]) | np.isnan(df[\"atr\"])\n",
    "\n",
    "    df[\"long_enter\"] = (\n",
    "        (df[\"sma_a\"] > df[\"sma_b\"])\n",
    "        & (df[\"sma_b\"] > df[\"sma_c\"])\n",
    "        & (df[\"close\"].shift() < df[\"sma_b\"].shift())\n",
    "        & (df[\"close\"] > df[\"sma_b\"])\n",
    "        # & (df[\"sma_a\"].shift() < df[\"sma_b\"].shift())\n",
    "    )\n",
    "    df[\"long_status\"] = -1\n",
    "    df.loc[df[\"long_enter\"], \"long_status\"] = 1\n",
    "    df[\"long_idx\"] = -1\n",
    "    df[\"long_price\"] = np.nan\n",
    "    df[\"long_diff\"] = np.nan\n",
    "    df[\"long_total\"] = 0.0\n",
    "    df[\"long_sl\"] = np.nan\n",
    "    df[\"long_tp\"] = np.nan\n",
    "    df[\"long_tsl\"] = np.nan\n",
    "    # df.drop([\"long_enter\"], axis=1, inplace=True)\n",
    "\n",
    "    df[\"short_enter\"] = (\n",
    "        (df[\"sma_a\"] < df[\"sma_b\"])\n",
    "        & (df[\"sma_b\"] < df[\"sma_c\"])\n",
    "        & (df[\"close\"].shift() > df[\"sma_b\"].shift())\n",
    "        & (df[\"close\"] < df[\"sma_b\"])\n",
    "        # & (df[\"sma_a\"].shift() > df[\"sma_b\"].shift())\n",
    "    )\n",
    "    df[\"short_status\"] = -1\n",
    "    df.loc[df[\"short_enter\"], \"short_status\"] = 1\n",
    "    df[\"short_idx\"] = -1\n",
    "    df[\"short_price\"] = np.nan\n",
    "    df[\"short_diff\"] = np.nan\n",
    "    df[\"short_total\"] = 0.0\n",
    "    df[\"short_sl\"] = np.nan\n",
    "    df[\"short_tp\"] = np.nan\n",
    "    df[\"short_tsl\"] = np.nan\n",
    "    # df.drop([\"short_enter\"], axis=1, inplace=True)\n",
    "\n",
    "    df[\"merge_price\"] = np.nan\n",
    "    df[\"merge_diff\"] = np.nan\n",
    "    df[\"merge_total\"] = 0.0\n",
    "\n",
    "    # 关闭short\n",
    "    # df[\"short_status\"] = -1\n",
    "\n",
    "    # df[\"long_status\"] = -1\n"
   ]
  },
  {
   "cell_type": "code",
   "execution_count": 97,
   "metadata": {},
   "outputs": [],
   "source": [
    "class Test_Strategy:\n",
    "    def __init__(self, strategy_params, optuna_params, strategy):\n",
    "        self.strategy_params = strategy_params\n",
    "        self.optuna_params = optuna_params\n",
    "        self.strategy = strategy\n",
    "\n",
    "\n",
    "class Strategy2:\n",
    "    def __init__(self, strategy_arr):\n",
    "        self.strategy_arr = strategy_arr\n",
    "\n",
    "\n",
    "ts = Test_Strategy(strategy_params, optuna_params, strategy)\n",
    "strategy = Strategy2([[\"test_strategy\", ts]])\n"
   ]
  },
  {
   "cell_type": "code",
   "execution_count": 98,
   "metadata": {},
   "outputs": [
    {
     "name": "stdout",
     "output_type": "stream",
     "text": [
      "run 1h test_strategy <__main__.Test_Strategy object at 0x00000220AB3708F0>\n",
      "strategy_params {'exchange_name': 'binance', 'mode': 'live', 'type': 'future', 'usd': 25, 'account': 'account_1', 'symbol': 'ETH/USDT', 'count_start_date': '2024-01-01 00:00:00', 'latest_start_date': '2025-01-01 00:00:00', 'period': '1h', 'count': 10000, 'sma_a': 150, 'sma_b': 130, 'sma_c': 110, 'atr_sl': 2.5, 'atr_tp': 0, 'atr_tsl': 2.5, 'limit': True, 'ratio': 0.3, 'n_trials': 200, 'enable_bot': True}\n",
      "{'FDUSD': 0.0, 'BFUSD': 0.0, 'BNB': 0.0, 'ETH': 0.0, 'BTC': 0.0, 'USDT': 60.50032107, 'USDC': 0.0}\n",
      "USDT {'free': 60.50032107, 'used': 0.0, 'total': 60.50032107}\n",
      "ETH/USDT 20.0 0.001\n",
      "trade_api_wapper: AuthenticationError binance {\"code\":-2015,\"msg\":\"Invalid API-key, IP, or permissions for action\"}\n"
     ]
    }
   ],
   "source": [
    "import data_api\n",
    "import backtest\n",
    "import plot\n",
    "\n",
    "# import strategy\n",
    "import trade_api\n",
    "\n",
    "import importlib\n",
    "\n",
    "importlib.reload(data_api)\n",
    "importlib.reload(backtest)\n",
    "importlib.reload(plot)\n",
    "# importlib.reload(strategy)\n",
    "importlib.reload(trade_api)\n",
    "\n",
    "from trade_api.trade_api import (\n",
    "    trade_api_wapper,\n",
    "    get_ticker,\n",
    "    close_position_all,\n",
    "    cancel_order_all,\n",
    "    get_balance,\n",
    ")\n",
    "from data_api.data_api import get_data_wapper, load_config, test_connect_api\n",
    "\n",
    "\n",
    "for [_name, _s] in strategy.strategy_arr:\n",
    "    _s.strategy_params[\"mode\"] = \"live\"\n",
    "\n",
    "    period = _s.strategy_params[\"period\"]\n",
    "    print(f\"run {period} {_name} {_s}\")\n",
    "    print(f\"strategy_params {_s.strategy_params}\")\n",
    "    symbol = _s.strategy_params[\"symbol\"]\n",
    "\n",
    "    config_path = \"../strategy/config.json\"\n",
    "\n",
    "    config = load_config(config_path)\n",
    "    exchange = test_connect_api(config, _s.strategy_params)\n",
    "\n",
    "    def _():\n",
    "        symbol = strategy_params[\"symbol\"]\n",
    "        market = exchange.market(symbol)\n",
    "\n",
    "        price = exchange.fetchTicker(symbol)[\"close\"]\n",
    "\n",
    "        limits = market[\"limits\"]\n",
    "        print(symbol, limits[\"cost\"][\"min\"], limits[\"amount\"][\"min\"])\n",
    "\n",
    "    _()\n",
    "\n",
    "    price = get_ticker(exchange, symbol)\n",
    "\n",
    "    trade_api_wapper(\n",
    "        exchange,\n",
    "        _s.strategy_params,\n",
    "        \"buy\",\n",
    "        leverage=1,\n",
    "        price=price,\n",
    "        takeProfitPrice=price + 500,\n",
    "        stopLossParams=price - 500,\n",
    "        mode=\"open\",\n",
    "    )\n",
    "    break"
   ]
  },
  {
   "cell_type": "code",
   "execution_count": null,
   "metadata": {},
   "outputs": [
    {
     "data": {
      "text/plain": [
       "('TRUMP/USDT', 5.0, 0.01)"
      ]
     },
     "execution_count": 78,
     "metadata": {},
     "output_type": "execute_result"
    }
   ],
   "source": []
  },
  {
   "cell_type": "code",
   "execution_count": 11,
   "metadata": {},
   "outputs": [],
   "source": [
    "trade_api_wapper(exchange, _s.strategy_params, \"buy\", leverage=1, mode=\"close\")"
   ]
  },
  {
   "cell_type": "code",
   "execution_count": 10,
   "metadata": {},
   "outputs": [],
   "source": [
    "trade_api_wapper(exchange, _s.strategy_params, \"buy\", leverage=1, mode=\"cancel\")\n"
   ]
  },
  {
   "cell_type": "code",
   "execution_count": 70,
   "metadata": {},
   "outputs": [
    {
     "name": "stdout",
     "output_type": "stream",
     "text": [
      "{'FDUSD': 0.0, 'BFUSD': 0.0, 'BNB': 0.0, 'ETH': 0.0, 'BTC': 0.0, 'USDT': 60.50032107, 'USDC': 0.0}\n",
      "USDT {'free': 60.50032107, 'used': 0.0, 'total': 60.50032107}\n",
      "BTC {'free': 0.0, 'used': 0.0, 'total': 0.0}\n",
      "ETH {'free': 0.0, 'used': 0.0, 'total': 0.0}\n",
      "DOGE {}\n"
     ]
    }
   ],
   "source": [
    "balance_obj = get_balance(exchange)\n",
    "\n",
    "print(balance_obj[\"total\"])  # 总资产数量\n",
    "\n",
    "print(\"USDT\", balance_obj.get(\"USDT\", {}))\n",
    "print(\"BTC\", balance_obj.get(\"BTC\", {}))\n",
    "print(\"ETH\", balance_obj.get(\"ETH\", {}))\n",
    "print(\"DOGE\", balance_obj.get(\"DOGE\", {}))"
   ]
  }
 ],
 "metadata": {
  "kernelspec": {
   "display_name": ".venv",
   "language": "python",
   "name": "python3"
  },
  "language_info": {
   "codemirror_mode": {
    "name": "ipython",
    "version": 3
   },
   "file_extension": ".py",
   "mimetype": "text/x-python",
   "name": "python",
   "nbconvert_exporter": "python",
   "pygments_lexer": "ipython3",
   "version": "3.12.6"
  }
 },
 "nbformat": 4,
 "nbformat_minor": 2
}
